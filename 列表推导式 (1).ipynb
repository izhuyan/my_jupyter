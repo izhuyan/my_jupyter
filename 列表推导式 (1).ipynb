{
  "metadata": {
    "kernelspec": {
      "name": "python",
      "display_name": "Python (Pyodide)",
      "language": "python"
    },
    "language_info": {
      "codemirror_mode": {
        "name": "python",
        "version": 3
      },
      "file_extension": ".py",
      "mimetype": "text/x-python",
      "name": "python",
      "nbconvert_exporter": "python",
      "pygments_lexer": "ipython3",
      "version": "3.8"
    }
  },
  "nbformat_minor": 4,
  "nbformat": 4,
  "cells": [
    {
      "cell_type": "markdown",
      "source": "### 学号:                  \n\n### 姓名:",
      "metadata": {}
    },
    {
      "cell_type": "markdown",
      "source": "# 列表推导式List comprehension",
      "metadata": {}
    },
    {
      "cell_type": "markdown",
      "source": "## 复习for循环和while循环",
      "metadata": {}
    },
    {
      "cell_type": "code",
      "source": "# 书上P42, 例题4-1, 用for循环求1~100的和\n# 自己测试一下能否独立编写, 若不能,可以查看书上对应的答案\nsum = 0 \nfor i in range(1,101):\n    sum += i\nsum",
      "metadata": {
        "trusted": true
      },
      "execution_count": 1,
      "outputs": [
        {
          "execution_count": 1,
          "output_type": "execute_result",
          "data": {
            "text/plain": "5050"
          },
          "metadata": {}
        }
      ]
    },
    {
      "cell_type": "code",
      "source": "# 书上P42, 例题4-2, 用for循环求1~100的奇数和\n# 自己测试一下能否独立编写, 若不能,可以查看书上对应的答案\nsum = 0 \nfor i in range(1,101,2):\n    sum += i\nsum",
      "metadata": {
        "trusted": true
      },
      "execution_count": 2,
      "outputs": [
        {
          "execution_count": 2,
          "output_type": "execute_result",
          "data": {
            "text/plain": "2500"
          },
          "metadata": {}
        }
      ]
    },
    {
      "cell_type": "code",
      "source": "# 书上P42, 例题4-3, 用for循环求1~100的偶数和\n# 自己测试一下能否独立编写, 若不能,可以查看书上对应的答案\nsum = 0 \nfor i in range(0,101,2):\n    sum += i\nsum",
      "metadata": {
        "trusted": true
      },
      "execution_count": 3,
      "outputs": [
        {
          "execution_count": 3,
          "output_type": "execute_result",
          "data": {
            "text/plain": "2550"
          },
          "metadata": {}
        }
      ]
    },
    {
      "cell_type": "code",
      "source": "# 书上P43, 例题4-4, 用while循环求1~100的和\n# 自己测试一下能否独立编写, 若不能,可以查看书上对应的答案\ni = 0\nsum = 0\nwhile i<=100:\n    \n    sum +=i\n    i = i+1\nsum\n",
      "metadata": {
        "trusted": true
      },
      "execution_count": 8,
      "outputs": [
        {
          "execution_count": 8,
          "output_type": "execute_result",
          "data": {
            "text/plain": "5050"
          },
          "metadata": {}
        }
      ]
    },
    {
      "cell_type": "code",
      "source": "# 书上P52, 例题4-14, 用for循环,求1~100之间,能被7整除,但不能同时被5整除的所有整数\n# 自己测试一下能否独立编写, 若不能,可以查看书上对应的答案\nfor i in range(1,101):\n    if i % 7 == 0 and i % 5 !=0:\n        print(i)\n\n",
      "metadata": {
        "trusted": true
      },
      "execution_count": 1,
      "outputs": [
        {
          "name": "stdout",
          "text": "7\n14\n21\n28\n42\n49\n56\n63\n77\n84\n91\n98\n",
          "output_type": "stream"
        }
      ]
    },
    {
      "cell_type": "markdown",
      "source": "## 用列表推导式和求和函数sum()实现求和",
      "metadata": {}
    },
    {
      "cell_type": "markdown",
      "source": "### 简单例子, 用于理解列表推导式",
      "metadata": {}
    },
    {
      "cell_type": "code",
      "source": "# 实现例题4-1的效果: 求1-100的和\n# 用列表推导式新建一个列表L, 里面存放1~100, 即[1,2,3,...,100]\nL=list(range(1,101))\n# 用sum()函数对列表L求和\nsum(L)",
      "metadata": {
        "trusted": true
      },
      "execution_count": 2,
      "outputs": [
        {
          "execution_count": 2,
          "output_type": "execute_result",
          "data": {
            "text/plain": "5050"
          },
          "metadata": {}
        }
      ]
    },
    {
      "cell_type": "code",
      "source": "# 把上面的两行语句合并为一行\n",
      "metadata": {},
      "execution_count": null,
      "outputs": []
    },
    {
      "cell_type": "code",
      "source": "# 对于1~100的和, 最简单的是直接使用sum()函数, 在range()函数的结果上直接求和\n# 你的代码\n",
      "metadata": {},
      "execution_count": null,
      "outputs": []
    },
    {
      "cell_type": "code",
      "source": "# 实现例题4-2的效果: 求1-100的奇数和\n# 用列表推导式新建一个列表L, 里面存放1~100的奇数, 即[1,3,5,7,...,99]\nL=\n# 用sum()函数对列表L求和\n\n# 把上面的两行语句合并为一行\n\n# 直接使用sum()函数在range()函数的结果上直接求和\n",
      "metadata": {},
      "execution_count": null,
      "outputs": []
    },
    {
      "cell_type": "code",
      "source": "# 实现例题4-2的效果: 求1-100的偶数和\n# 用列表推导式新建一个列表L, 里面存放1~100的奇数, 即[2,4,6,8,...,100]\nL=\n# 用sum()函数对列表L求和\n\n# 把上面的两行语句合并为一行\n\n# 直接使用sum()函数在range()函数的结果上直接求和\n",
      "metadata": {},
      "execution_count": null,
      "outputs": []
    },
    {
      "cell_type": "code",
      "source": "# 书上P63, 习题4, 求s=1/1+1/2+1/3+1/4+...+1/100的和\n# 首先, 用列表推导式新建一个列表L, 里面存放[1/1, 1/2,1/3,1/4,...,1/100]\nL=\n# 然后用sum()函数对列表L求和\n\n# 当你对列表推导式熟悉后,可以把两句话写成一句\n",
      "metadata": {},
      "execution_count": null,
      "outputs": []
    },
    {
      "cell_type": "code",
      "source": "# 提高题: 求 6+66+666+6666+...+66666666 的和\n# 提示: 类似上面的思路, 先用列表推导式生成一个列表L, 里面存放[6, 66, 666, ..., 66666666], 多个相同数字可以用字符串的*操作实现.\n# 然后用sum()函数对列表L求和 \n\n\n",
      "metadata": {},
      "execution_count": null,
      "outputs": []
    },
    {
      "cell_type": "markdown",
      "source": "### 课件中的列表推导式的例子",
      "metadata": {}
    },
    {
      "cell_type": "code",
      "source": "# 列表中存储数字 [1,2,3,4,5]\nL=[]\nfor i in range(1,6):\n    L.append(i)\nL",
      "metadata": {},
      "execution_count": 2,
      "outputs": [
        {
          "execution_count": 2,
          "output_type": "execute_result",
          "data": {
            "text/plain": [
              "[1, 2, 3, 4, 5]"
            ]
          },
          "metadata": {}
        }
      ]
    },
    {
      "cell_type": "code",
      "source": "# 写出对应的列表推导式(ppt的列表推导式例1), 生成的列表名字为L\n",
      "metadata": {},
      "execution_count": null,
      "outputs": []
    },
    {
      "cell_type": "code",
      "source": "# 已有列表L=[1, 2,3,4,5]\n# 创建新的列表L1, 存储L中每个数字的平方\nL=[1,2,3,4,5]\nL1=[]\nfor i in L:\n    L1.append(i**2)\nL1",
      "metadata": {},
      "execution_count": 3,
      "outputs": [
        {
          "execution_count": 3,
          "output_type": "execute_result",
          "data": {
            "text/plain": [
              "[1, 4, 9, 16, 25]"
            ]
          },
          "metadata": {}
        }
      ]
    },
    {
      "cell_type": "code",
      "source": "# 写出对应的列表推导式 (类似ppt的列表推导式例2的第一个语句块), 生成的列表名字为L1\n\n",
      "metadata": {},
      "execution_count": null,
      "outputs": []
    },
    {
      "cell_type": "code",
      "source": "# 已有列表L=[21, 12,31,24,5, 72, 60, 97]\n# 创建新的列表L1, 存储L中是3的倍数的数字\nL=[21, 12,31,24,5, 72, 60, 97]\nL1=[]\nfor i in L:\n    if i%3==0:\n        L1.append(i)\nL1",
      "metadata": {},
      "execution_count": 4,
      "outputs": [
        {
          "execution_count": 4,
          "output_type": "execute_result",
          "data": {
            "text/plain": [
              "[21, 12, 24, 72, 60]"
            ]
          },
          "metadata": {}
        }
      ]
    },
    {
      "cell_type": "code",
      "source": "# 写出对应的列表推导式 (类似ppt的列表推导式例2的第二个语句块), 生成的列表名字为L1\n\n",
      "metadata": {},
      "execution_count": null,
      "outputs": []
    },
    {
      "cell_type": "code",
      "source": "# 已有列表char=['a','b','c']和列表 num=[1,2,3]\n# 用嵌套循环从两个列表构建如下的列表L\nchar=['a','b','c']\nnum=[1,2,3]\nL=[]\nfor i in char:\n    for j in num:\n        L.append((i,j))\nL",
      "metadata": {},
      "execution_count": 10,
      "outputs": [
        {
          "execution_count": 10,
          "output_type": "execute_result",
          "data": {
            "text/plain": [
              "[('a', 1),\n",
              " ('a', 2),\n",
              " ('a', 3),\n",
              " ('b', 1),\n",
              " ('b', 2),\n",
              " ('b', 3),\n",
              " ('c', 1),\n",
              " ('c', 2),\n",
              " ('c', 3)]"
            ]
          },
          "metadata": {}
        }
      ]
    },
    {
      "cell_type": "code",
      "source": "# 写出对应的列表推导式 (类似ppt的列表推导式例3), 生成的列表名字为L\n\n",
      "metadata": {},
      "execution_count": null,
      "outputs": []
    },
    {
      "cell_type": "code",
      "source": "# 已有嵌套列表M=[ [1,2,3], [4,5,6],[7,8,9]],它表示3*3矩阵\n# 用这个矩阵的第二列(2,5,8)构建列表col2\nM=[ [1,2,3],\n      [4,5,6],\n      [7,8,9]]\n\ncol2=[]\nfor row in M:\n    col2.append(row[1])\ncol2",
      "metadata": {},
      "execution_count": 11,
      "outputs": [
        {
          "execution_count": 11,
          "output_type": "execute_result",
          "data": {
            "text/plain": [
              "[2, 5, 8]"
            ]
          },
          "metadata": {}
        }
      ]
    },
    {
      "cell_type": "code",
      "source": "# 写出对应的列表推导式 (ppt的列表推导式例4), 生成的列表名字为col2\n",
      "metadata": {},
      "execution_count": null,
      "outputs": []
    },
    {
      "cell_type": "code",
      "source": "# 已有嵌套列表M=[ [1,2,3], [4,5,6],[7,8,9]], 表示3*3矩阵\n# 用这个矩阵的第一列(1,4,7)构建列表col1\n# 用列表推导式实现 (类似ppt的列表推导式例4), 生成的列表名字为col1\n",
      "metadata": {},
      "execution_count": null,
      "outputs": []
    },
    {
      "cell_type": "code",
      "source": "# 已有嵌套列表M=[ [1,2,3], [4,5,6],[7,8,9]], 表示3*3矩阵\n# 用这个矩阵的第三列(3,6,9)每个元素+10, 构建列表L, \n# 用列表推导式实现 (类似ppt的列表推导式例5中的语句块), 生成的列表名字为L\n\n",
      "metadata": {},
      "execution_count": null,
      "outputs": []
    },
    {
      "cell_type": "code",
      "source": "# 已有嵌套列表M=[ [1,2,3], [4,5,6],[7,8,9]], 表示3*3矩阵\n# 用这个矩阵的对角线元素(1,5,9), 构建列表diag, \n# 用列表推导式实现 (ppt的列表推导式例5中的语句块), 生成的列表名字为diag\n\n",
      "metadata": {},
      "execution_count": null,
      "outputs": []
    },
    {
      "cell_type": "code",
      "source": "# 用列表推导式实现嵌套列表[[0,0],[1,1][4,8],[9,27]], 第一项是数字0~3的平方, 第二项是数字0~3的立方\n# (ppt的列表推导式例6中的语句块), 生成的列表名字为L\n\n",
      "metadata": {},
      "execution_count": null,
      "outputs": []
    },
    {
      "cell_type": "code",
      "source": "# 用字符串s='abcd'创建列表L=[‘aaa', 'bbb', 'ccc', 'ddd']\ns='abcd'\n# 使用列表推导式, 创建列表L(用字符串做为遍历对象,构建列表, ppt第9页)\nL=",
      "metadata": {},
      "execution_count": null,
      "outputs": []
    },
    {
      "cell_type": "code",
      "source": "# 用循环嵌套创建列表res, 包含的元素如下\nres=[]\nfor x in 'abc':\n    for y in 'lmn':\n        res.append(x+y)\nres\n",
      "metadata": {},
      "execution_count": 12,
      "outputs": [
        {
          "execution_count": 12,
          "output_type": "execute_result",
          "data": {
            "text/plain": [
              "['al', 'am', 'an', 'bl', 'bm', 'bn', 'cl', 'cm', 'cn']"
            ]
          },
          "metadata": {}
        }
      ]
    },
    {
      "cell_type": "code",
      "source": "# 把上面语句改写成列表推导式(ppt第8页), 生成的列表名字为res\n\n",
      "metadata": {},
      "execution_count": null,
      "outputs": []
    },
    {
      "cell_type": "markdown",
      "source": "## 字典推导式",
      "metadata": {}
    },
    {
      "cell_type": "code",
      "source": "#用for循环统计3*3矩阵M的每行的和, 存储在字典d中, 字典的键为矩阵的行的编号0~2, 对应的值为该行数字的和\nM=[ [1,2,3],\n      [4,5,6],\n      [7,8,9]]\nd={}\nfor i in range(3):\n    d[i]=sum(M[i])\nd",
      "metadata": {},
      "execution_count": 13,
      "outputs": [
        {
          "execution_count": 13,
          "output_type": "execute_result",
          "data": {
            "text/plain": [
              "{0: 6, 1: 15, 2: 24}"
            ]
          },
          "metadata": {}
        }
      ]
    },
    {
      "cell_type": "code",
      "source": "# 用字典推导式实现上面的功能(ppt第12页字典推导式举例), 生成的字典名字为d\n",
      "metadata": {},
      "execution_count": null,
      "outputs": []
    },
    {
      "cell_type": "code",
      "source": "# 用for循环统计给定的字符串word='letters'中, 每个字母出现的次数, 结果存储在字典letter_counts中,\n# 字典的键为字母, 对应的值为字母出现的次数\nword='letters'\nletter_counts={}\nfor letter in word:                                            # word中每个字母都会被遍历一遍\n    letter_counts[letter]=word.count(letter)           # 字母l应用一次count()函数, 字母 e 和t 应用两次count()函数, 字母r, s都应用一次count()函数\nletter_counts                                                   \n    ",
      "metadata": {},
      "execution_count": 17,
      "outputs": [
        {
          "execution_count": 17,
          "output_type": "execute_result",
          "data": {
            "text/plain": [
              "{'l': 1, 'e': 2, 't': 2, 'r': 1, 's': 1}"
            ]
          },
          "metadata": {}
        }
      ]
    },
    {
      "cell_type": "code",
      "source": "# 用字典推导式实现上面的功能(ppt第10页字典推导式), 生成的字典名字为letter_counts\n\n",
      "metadata": {},
      "execution_count": null,
      "outputs": []
    },
    {
      "cell_type": "code",
      "source": "# 用for循环统计给定的字符串word='letters'中, 每个字母出现的次数, 结果存储在字典letter_counts中\nword='letters'\nletter_counts={}\nfor letter in set(word):                                    # set(word)去掉word中的重复字符, 成为集合{'l', 'e', 't', 'r','s' } 但是字母前后的顺序未知\n    letter_counts[letter]=word.count(letter)         # 在不重复字母集合中, 遍历, 每个字母仅应用count()函数一次\nletter_counts\n    ",
      "metadata": {},
      "execution_count": 16,
      "outputs": [
        {
          "execution_count": 16,
          "output_type": "execute_result",
          "data": {
            "text/plain": [
              "{'s': 1, 'e': 2, 'l': 1, 'r': 1, 't': 2}"
            ]
          },
          "metadata": {}
        }
      ]
    },
    {
      "cell_type": "code",
      "source": "# 用字典推导式实现上面的功能(ppt第11页字典推导式), 生成的字典名字为letter_counts\n\n",
      "metadata": {},
      "execution_count": null,
      "outputs": []
    },
    {
      "cell_type": "markdown",
      "source": "## 集合推导式",
      "metadata": {}
    },
    {
      "cell_type": "code",
      "source": "# 数字1~5中, 对3取余数等于1的数字, 存储到集合a_set中\na_set=set()\nfor i in range(1,6):\n    if i%3==1:\n        a_set.add(i)\na_set\n",
      "metadata": {},
      "execution_count": 18,
      "outputs": [
        {
          "execution_count": 18,
          "output_type": "execute_result",
          "data": {
            "text/plain": [
              "{1, 4}"
            ]
          },
          "metadata": {}
        }
      ]
    },
    {
      "cell_type": "code",
      "source": "# 用集合推导式实现上面的功能(ppt第13页集合推导式), 生成的集合名字为a_set\n\n\n",
      "metadata": {},
      "execution_count": null,
      "outputs": []
    },
    {
      "cell_type": "code",
      "source": "#用for循环统计3*3矩阵M的每行的和, 存储在集合set1中\nM=[ [1,2,3],\n      [4,5,6],\n      [7,8,9]]\nset1=set()\nfor row in M:\n    set1.add(sum(row))\nset1",
      "metadata": {},
      "execution_count": 20,
      "outputs": [
        {
          "execution_count": 20,
          "output_type": "execute_result",
          "data": {
            "text/plain": [
              "{6, 15, 24}"
            ]
          },
          "metadata": {}
        }
      ]
    },
    {
      "cell_type": "code",
      "source": "# 用集合推导式实现上面的功能(ppt第14页集合推导式), 生成的集合名字为set1\n\n",
      "metadata": {},
      "execution_count": null,
      "outputs": []
    }
  ]
}